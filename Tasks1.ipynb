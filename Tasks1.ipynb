{
 "cells": [
  {
   "cell_type": "code",
   "execution_count": 4,
   "id": "04a4d3d1",
   "metadata": {},
   "outputs": [
    {
     "name": "stdout",
     "output_type": "stream",
     "text": [
      "7\n",
      "9\n",
      "2\n",
      "Недосып\n"
     ]
    }
   ],
   "source": [
    "a=int(input())\n",
    "b=int(input())\n",
    "h=int(input())\n",
    "if h<a:\n",
    "    print(\"Недосып\")\n",
    "elif h>b:\n",
    "    print(\"Пересып\")\n",
    "else:\n",
    "    print(\"Это нормально\")"
   ]
  },
  {
   "cell_type": "code",
   "execution_count": 7,
   "id": "144345a1",
   "metadata": {},
   "outputs": [
    {
     "name": "stdout",
     "output_type": "stream",
     "text": [
      "3000\n",
      "Обычный\n"
     ]
    }
   ],
   "source": [
    "year = int(input())\n",
    "if year%4==0 and year%100!=0:\n",
    "    print(\"Високосный\")\n",
    "elif year%400==0:\n",
    "    print(\"Високосный\")\n",
    "else:\n",
    "    print(\"Обычный\")\n"
   ]
  },
  {
   "cell_type": "code",
   "execution_count": 9,
   "id": "18d012dc",
   "metadata": {},
   "outputs": [
    {
     "name": "stdout",
     "output_type": "stream",
     "text": [
      "3\n",
      "4\n",
      "5\n",
      "Площаль: 6.0\n"
     ]
    }
   ],
   "source": [
    "a=int(input())\n",
    "b=int(input())\n",
    "c=int(input())\n",
    "p=(a+b+c)/2\n",
    "squre=(p*(p-a)*(p-b)*(p-c))**0.5\n",
    "print(squre)"
   ]
  },
  {
   "cell_type": "code",
   "execution_count": 11,
   "id": "ccd0dfdf",
   "metadata": {},
   "outputs": [
    {
     "name": "stdout",
     "output_type": "stream",
     "text": [
      "-20\n",
      "False\n"
     ]
    }
   ],
   "source": [
    "number=int(input())\n",
    "if number>-15 and number<=12 or number>14 and number <17 or number >=19:\n",
    "    print('True')\n",
    "else:\n",
    "    print('False')\n"
   ]
  },
  {
   "cell_type": "code",
   "execution_count": 18,
   "id": "0314cc57",
   "metadata": {},
   "outputs": [
    {
     "name": "stdout",
     "output_type": "stream",
     "text": [
      "5\n",
      "10\n",
      "/\n",
      "0.5\n"
     ]
    }
   ],
   "source": [
    "number1 = float(input())\n",
    "number2 = float(input())\n",
    "operation =input()\n",
    "if operation == '+':\n",
    "    print(number1+number2)\n",
    "elif operation =='-':\n",
    "    print(number1-number2)\n",
    "elif operation =='/':\n",
    "    if number2 !=0:\n",
    "        print(number1/number2)\n",
    "    else:\n",
    "        print(\"Деление на 0!\")\n",
    "elif operation =='*':\n",
    "    print(number1*number2)\n",
    "elif operation =='mod':\n",
    "    if number2 !=0:\n",
    "        print(number1%number2)\n",
    "    else:\n",
    "        print(\"Деление на 0!\")\n",
    "elif operation =='pow':\n",
    "    print(number1**number2)\n",
    "elif operation =='div':\n",
    "    if number2!=0:\n",
    "        print(number1//number2)\n",
    "    else:\n",
    "        print(\"Деление на 0!\")\n",
    "\n"
   ]
  },
  {
   "cell_type": "code",
   "execution_count": 27,
   "id": "04830763",
   "metadata": {},
   "outputs": [
    {
     "name": "stdout",
     "output_type": "stream",
     "text": [
      "треугольник\n",
      "3\n",
      "4\n",
      "5\n",
      "6.0\n"
     ]
    }
   ],
   "source": [
    "figure = input()\n",
    "if figure =='треугольник':\n",
    "    number1 = float(input())\n",
    "    number2 = float(input())\n",
    "    number3 = float(input())\n",
    "    p=(number1+number2+number3)/2\n",
    "    squre=(p*(p-number1)*(p-number2)*(p-number3))**0.5\n",
    "    print(squre)\n",
    "elif figure == 'прямоугольник':\n",
    "    number1 = float(input())\n",
    "    number2 = float(input())\n",
    "    print(number1*number2)\n",
    "elif figure == 'круг':\n",
    "    radius = float(input())\n",
    "    print(3.14*radius**2)\n"
   ]
  },
  {
   "cell_type": "code",
   "execution_count": 29,
   "id": "616f62eb",
   "metadata": {},
   "outputs": [
    {
     "name": "stdout",
     "output_type": "stream",
     "text": [
      "5\n",
      "3\n",
      "1\n",
      "5\n",
      "1\n"
     ]
    }
   ],
   "source": [
    "number1 = int(input())\n",
    "number2 = int(input())\n",
    "number3 = int(input())\n",
    "countMax=max(number1,number2,number3)\n",
    "countMin=min(number1,number2,number3)\n",
    "print(countMax)\n",
    "print(countMin)\n",
    "if countMax != number1 \n",
    "    print(number1)\n",
    "elif countMax !=number2\n",
    "    "
   ]
  },
  {
   "cell_type": "code",
   "execution_count": null,
   "id": "26db6eb1",
   "metadata": {},
   "outputs": [],
   "source": []
  }
 ],
 "metadata": {
  "kernelspec": {
   "display_name": "Python 3 (ipykernel)",
   "language": "python",
   "name": "python3"
  },
  "language_info": {
   "codemirror_mode": {
    "name": "ipython",
    "version": 3
   },
   "file_extension": ".py",
   "mimetype": "text/x-python",
   "name": "python",
   "nbconvert_exporter": "python",
   "pygments_lexer": "ipython3",
   "version": "3.11.1"
  }
 },
 "nbformat": 4,
 "nbformat_minor": 5
}
